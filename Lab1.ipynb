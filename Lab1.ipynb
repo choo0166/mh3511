{
  "cells": [
    {
      "metadata": {},
      "cell_type": "markdown",
      "source": "#### Vectors and Sequences"
    },
    {
      "metadata": {
        "trusted": true
      },
      "cell_type": "code",
      "source": "seq(10);\nseq(0, 1, length=9) # Create equally spaced sequences of 9 subintervals\nseq(0, 10, by=1)\nrep(2,3)\nrep(-1, 4)\nrep(1:3, 2)\nrep('A', 4) \nc(rep('A',3), rep('B',3)) \nrep(c('A', 'B'), 3) ",
      "execution_count": 17,
      "outputs": [
        {
          "output_type": "display_data",
          "data": {
            "text/plain": " [1]  1  2  3  4  5  6  7  8  9 10",
            "text/latex": "\\begin{enumerate*}\n\\item 1\n\\item 2\n\\item 3\n\\item 4\n\\item 5\n\\item 6\n\\item 7\n\\item 8\n\\item 9\n\\item 10\n\\end{enumerate*}\n",
            "text/markdown": "1. 1\n2. 2\n3. 3\n4. 4\n5. 5\n6. 6\n7. 7\n8. 8\n9. 9\n10. 10\n\n\n",
            "text/html": "<ol class=list-inline>\n\t<li>1</li>\n\t<li>2</li>\n\t<li>3</li>\n\t<li>4</li>\n\t<li>5</li>\n\t<li>6</li>\n\t<li>7</li>\n\t<li>8</li>\n\t<li>9</li>\n\t<li>10</li>\n</ol>\n"
          },
          "metadata": {}
        },
        {
          "output_type": "display_data",
          "data": {
            "text/plain": "[1] 0.000 0.125 0.250 0.375 0.500 0.625 0.750 0.875 1.000",
            "text/latex": "\\begin{enumerate*}\n\\item 0\n\\item 0.125\n\\item 0.25\n\\item 0.375\n\\item 0.5\n\\item 0.625\n\\item 0.75\n\\item 0.875\n\\item 1\n\\end{enumerate*}\n",
            "text/markdown": "1. 0\n2. 0.125\n3. 0.25\n4. 0.375\n5. 0.5\n6. 0.625\n7. 0.75\n8. 0.875\n9. 1\n\n\n",
            "text/html": "<ol class=list-inline>\n\t<li>0</li>\n\t<li>0.125</li>\n\t<li>0.25</li>\n\t<li>0.375</li>\n\t<li>0.5</li>\n\t<li>0.625</li>\n\t<li>0.75</li>\n\t<li>0.875</li>\n\t<li>1</li>\n</ol>\n"
          },
          "metadata": {}
        },
        {
          "output_type": "display_data",
          "data": {
            "text/plain": " [1]  0  1  2  3  4  5  6  7  8  9 10",
            "text/latex": "\\begin{enumerate*}\n\\item 0\n\\item 1\n\\item 2\n\\item 3\n\\item 4\n\\item 5\n\\item 6\n\\item 7\n\\item 8\n\\item 9\n\\item 10\n\\end{enumerate*}\n",
            "text/markdown": "1. 0\n2. 1\n3. 2\n4. 3\n5. 4\n6. 5\n7. 6\n8. 7\n9. 8\n10. 9\n11. 10\n\n\n",
            "text/html": "<ol class=list-inline>\n\t<li>0</li>\n\t<li>1</li>\n\t<li>2</li>\n\t<li>3</li>\n\t<li>4</li>\n\t<li>5</li>\n\t<li>6</li>\n\t<li>7</li>\n\t<li>8</li>\n\t<li>9</li>\n\t<li>10</li>\n</ol>\n"
          },
          "metadata": {}
        },
        {
          "output_type": "display_data",
          "data": {
            "text/plain": "[1] 2 2 2",
            "text/latex": "\\begin{enumerate*}\n\\item 2\n\\item 2\n\\item 2\n\\end{enumerate*}\n",
            "text/markdown": "1. 2\n2. 2\n3. 2\n\n\n",
            "text/html": "<ol class=list-inline>\n\t<li>2</li>\n\t<li>2</li>\n\t<li>2</li>\n</ol>\n"
          },
          "metadata": {}
        },
        {
          "output_type": "display_data",
          "data": {
            "text/plain": "[1] -1 -1 -1 -1",
            "text/latex": "\\begin{enumerate*}\n\\item -1\n\\item -1\n\\item -1\n\\item -1\n\\end{enumerate*}\n",
            "text/markdown": "1. -1\n2. -1\n3. -1\n4. -1\n\n\n",
            "text/html": "<ol class=list-inline>\n\t<li>-1</li>\n\t<li>-1</li>\n\t<li>-1</li>\n\t<li>-1</li>\n</ol>\n"
          },
          "metadata": {}
        },
        {
          "output_type": "display_data",
          "data": {
            "text/plain": "[1] 1 2 3 1 2 3",
            "text/latex": "\\begin{enumerate*}\n\\item 1\n\\item 2\n\\item 3\n\\item 1\n\\item 2\n\\item 3\n\\end{enumerate*}\n",
            "text/markdown": "1. 1\n2. 2\n3. 3\n4. 1\n5. 2\n6. 3\n\n\n",
            "text/html": "<ol class=list-inline>\n\t<li>1</li>\n\t<li>2</li>\n\t<li>3</li>\n\t<li>1</li>\n\t<li>2</li>\n\t<li>3</li>\n</ol>\n"
          },
          "metadata": {}
        },
        {
          "output_type": "display_data",
          "data": {
            "text/plain": "[1] \"A\" \"A\" \"A\" \"A\"",
            "text/latex": "\\begin{enumerate*}\n\\item 'A'\n\\item 'A'\n\\item 'A'\n\\item 'A'\n\\end{enumerate*}\n",
            "text/markdown": "1. 'A'\n2. 'A'\n3. 'A'\n4. 'A'\n\n\n",
            "text/html": "<ol class=list-inline>\n\t<li>'A'</li>\n\t<li>'A'</li>\n\t<li>'A'</li>\n\t<li>'A'</li>\n</ol>\n"
          },
          "metadata": {}
        },
        {
          "output_type": "display_data",
          "data": {
            "text/plain": "[1] \"A\" \"A\" \"A\" \"B\" \"B\" \"B\"",
            "text/latex": "\\begin{enumerate*}\n\\item 'A'\n\\item 'A'\n\\item 'A'\n\\item 'B'\n\\item 'B'\n\\item 'B'\n\\end{enumerate*}\n",
            "text/markdown": "1. 'A'\n2. 'A'\n3. 'A'\n4. 'B'\n5. 'B'\n6. 'B'\n\n\n",
            "text/html": "<ol class=list-inline>\n\t<li>'A'</li>\n\t<li>'A'</li>\n\t<li>'A'</li>\n\t<li>'B'</li>\n\t<li>'B'</li>\n\t<li>'B'</li>\n</ol>\n"
          },
          "metadata": {}
        },
        {
          "output_type": "display_data",
          "data": {
            "text/plain": "[1] \"A\" \"B\" \"A\" \"B\" \"A\" \"B\"",
            "text/latex": "\\begin{enumerate*}\n\\item 'A'\n\\item 'B'\n\\item 'A'\n\\item 'B'\n\\item 'A'\n\\item 'B'\n\\end{enumerate*}\n",
            "text/markdown": "1. 'A'\n2. 'B'\n3. 'A'\n4. 'B'\n5. 'A'\n6. 'B'\n\n\n",
            "text/html": "<ol class=list-inline>\n\t<li>'A'</li>\n\t<li>'B'</li>\n\t<li>'A'</li>\n\t<li>'B'</li>\n\t<li>'A'</li>\n\t<li>'B'</li>\n</ol>\n"
          },
          "metadata": {}
        }
      ]
    },
    {
      "metadata": {
        "trusted": true
      },
      "cell_type": "code",
      "source": "c(seq(3, 9, by=2))\nc(rep(2,2), rep(3,3), rep(4,4))\nrep(c('High', 'Medium', 'Low'), 2)\nrep(c(1,2,3), each=2, 5)  # each=2 repeats each element of vector twice",
      "execution_count": 1,
      "outputs": [
        {
          "output_type": "display_data",
          "data": {
            "text/plain": "[1] 3 5 7 9",
            "text/latex": "\\begin{enumerate*}\n\\item 3\n\\item 5\n\\item 7\n\\item 9\n\\end{enumerate*}\n",
            "text/markdown": "1. 3\n2. 5\n3. 7\n4. 9\n\n\n",
            "text/html": "<ol class=list-inline>\n\t<li>3</li>\n\t<li>5</li>\n\t<li>7</li>\n\t<li>9</li>\n</ol>\n"
          },
          "metadata": {}
        },
        {
          "output_type": "display_data",
          "data": {
            "text/plain": "[1] 2 2 3 3 3 4 4 4 4",
            "text/latex": "\\begin{enumerate*}\n\\item 2\n\\item 2\n\\item 3\n\\item 3\n\\item 3\n\\item 4\n\\item 4\n\\item 4\n\\item 4\n\\end{enumerate*}\n",
            "text/markdown": "1. 2\n2. 2\n3. 3\n4. 3\n5. 3\n6. 4\n7. 4\n8. 4\n9. 4\n\n\n",
            "text/html": "<ol class=list-inline>\n\t<li>2</li>\n\t<li>2</li>\n\t<li>3</li>\n\t<li>3</li>\n\t<li>3</li>\n\t<li>4</li>\n\t<li>4</li>\n\t<li>4</li>\n\t<li>4</li>\n</ol>\n"
          },
          "metadata": {}
        },
        {
          "output_type": "display_data",
          "data": {
            "text/plain": "[1] \"High\"   \"Medium\" \"Low\"    \"High\"   \"Medium\" \"Low\"   ",
            "text/latex": "\\begin{enumerate*}\n\\item 'High'\n\\item 'Medium'\n\\item 'Low'\n\\item 'High'\n\\item 'Medium'\n\\item 'Low'\n\\end{enumerate*}\n",
            "text/markdown": "1. 'High'\n2. 'Medium'\n3. 'Low'\n4. 'High'\n5. 'Medium'\n6. 'Low'\n\n\n",
            "text/html": "<ol class=list-inline>\n\t<li>'High'</li>\n\t<li>'Medium'</li>\n\t<li>'Low'</li>\n\t<li>'High'</li>\n\t<li>'Medium'</li>\n\t<li>'Low'</li>\n</ol>\n"
          },
          "metadata": {}
        },
        {
          "output_type": "display_data",
          "data": {
            "text/plain": " [1] 1 1 2 2 3 3 1 1 2 2 3 3 1 1 2 2 3 3 1 1 2 2 3 3 1 1 2 2 3 3",
            "text/latex": "\\begin{enumerate*}\n\\item 1\n\\item 1\n\\item 2\n\\item 2\n\\item 3\n\\item 3\n\\item 1\n\\item 1\n\\item 2\n\\item 2\n\\item 3\n\\item 3\n\\item 1\n\\item 1\n\\item 2\n\\item 2\n\\item 3\n\\item 3\n\\item 1\n\\item 1\n\\item 2\n\\item 2\n\\item 3\n\\item 3\n\\item 1\n\\item 1\n\\item 2\n\\item 2\n\\item 3\n\\item 3\n\\end{enumerate*}\n",
            "text/markdown": "1. 1\n2. 1\n3. 2\n4. 2\n5. 3\n6. 3\n7. 1\n8. 1\n9. 2\n10. 2\n11. 3\n12. 3\n13. 1\n14. 1\n15. 2\n16. 2\n17. 3\n18. 3\n19. 1\n20. 1\n21. 2\n22. 2\n23. 3\n24. 3\n25. 1\n26. 1\n27. 2\n28. 2\n29. 3\n30. 3\n\n\n",
            "text/html": "<ol class=list-inline>\n\t<li>1</li>\n\t<li>1</li>\n\t<li>2</li>\n\t<li>2</li>\n\t<li>3</li>\n\t<li>3</li>\n\t<li>1</li>\n\t<li>1</li>\n\t<li>2</li>\n\t<li>2</li>\n\t<li>3</li>\n\t<li>3</li>\n\t<li>1</li>\n\t<li>1</li>\n\t<li>2</li>\n\t<li>2</li>\n\t<li>3</li>\n\t<li>3</li>\n\t<li>1</li>\n\t<li>1</li>\n\t<li>2</li>\n\t<li>2</li>\n\t<li>3</li>\n\t<li>3</li>\n\t<li>1</li>\n\t<li>1</li>\n\t<li>2</li>\n\t<li>2</li>\n\t<li>3</li>\n\t<li>3</li>\n</ol>\n"
          },
          "metadata": {}
        }
      ]
    },
    {
      "metadata": {
        "trusted": true
      },
      "cell_type": "code",
      "source": "poker_winnings <- c(140, -50, 20, -120, 240)\nroulette_winnings <- c(-24, -50, 100, -350, 10)\ndays <- c('Mon', 'Tue', 'Wed', 'Thu', 'Fri')\nnames(poker_winnings) <- days\nnames(roulette_winnings) <- days\nnames(which(poker_winnings > 0))\ndaily_winnings <- poker_winnings + roulette_winnings; daily_winnings\nnames(which(daily_winnings > 0))\nsum(poker_winnings)\nsum(roulette_winnings)",
      "execution_count": 30,
      "outputs": [
        {
          "output_type": "display_data",
          "data": {
            "text/plain": "[1] \"Mon\" \"Wed\" \"Fri\"",
            "text/latex": "\\begin{enumerate*}\n\\item 'Mon'\n\\item 'Wed'\n\\item 'Fri'\n\\end{enumerate*}\n",
            "text/markdown": "1. 'Mon'\n2. 'Wed'\n3. 'Fri'\n\n\n",
            "text/html": "<ol class=list-inline>\n\t<li>'Mon'</li>\n\t<li>'Wed'</li>\n\t<li>'Fri'</li>\n</ol>\n"
          },
          "metadata": {}
        },
        {
          "output_type": "display_data",
          "data": {
            "text/plain": " Mon  Tue  Wed  Thu  Fri \n 116 -100  120 -470  250 ",
            "text/latex": "\\begin{description*}\n\\item[Mon] 116\n\\item[Tue] -100\n\\item[Wed] 120\n\\item[Thu] -470\n\\item[Fri] 250\n\\end{description*}\n",
            "text/markdown": "Mon\n:   116Tue\n:   -100Wed\n:   120Thu\n:   -470Fri\n:   250\n\n",
            "text/html": "<dl class=dl-horizontal>\n\t<dt>Mon</dt>\n\t\t<dd>116</dd>\n\t<dt>Tue</dt>\n\t\t<dd>-100</dd>\n\t<dt>Wed</dt>\n\t\t<dd>120</dd>\n\t<dt>Thu</dt>\n\t\t<dd>-470</dd>\n\t<dt>Fri</dt>\n\t\t<dd>250</dd>\n</dl>\n"
          },
          "metadata": {}
        },
        {
          "output_type": "display_data",
          "data": {
            "text/plain": "[1] \"Mon\" \"Wed\" \"Fri\"",
            "text/latex": "\\begin{enumerate*}\n\\item 'Mon'\n\\item 'Wed'\n\\item 'Fri'\n\\end{enumerate*}\n",
            "text/markdown": "1. 'Mon'\n2. 'Wed'\n3. 'Fri'\n\n\n",
            "text/html": "<ol class=list-inline>\n\t<li>'Mon'</li>\n\t<li>'Wed'</li>\n\t<li>'Fri'</li>\n</ol>\n"
          },
          "metadata": {}
        },
        {
          "output_type": "display_data",
          "data": {
            "text/plain": "[1] 230",
            "text/latex": "230",
            "text/markdown": "230",
            "text/html": "230"
          },
          "metadata": {}
        },
        {
          "output_type": "display_data",
          "data": {
            "text/plain": "[1] -314",
            "text/latex": "-314",
            "text/markdown": "-314",
            "text/html": "-314"
          },
          "metadata": {}
        }
      ]
    },
    {
      "metadata": {},
      "cell_type": "markdown",
      "source": "#### Matrices"
    },
    {
      "metadata": {
        "trusted": true
      },
      "cell_type": "code",
      "source": "matrix_4x2 <- matrix(1:8, byrow=FALSE, nrow=4); matrix_4x2\nmatrix_2x4 <- matrix(c(1,2,3,4,11,12,13,14), byrow=TRUE, nrow=2); matrix_2x4\nmatrix_4x2 %*% matrix_2x4  # %*% denotes matrix multiplication, * denotes component-wise multiplication\nmatrix_2x4 %*% matrix_4x2\nmatrix_2x2 <- matrix_4x2[1:2,]; matrix_2x2  # Selects first 2 rows of matrix_4x2\nmatrix_4x2[,2] # Selects 2nd column of matrix_4x2\nsolve(matrix_2x2)  # Finds the inverse of matrix_2x2\ndiag(3)  # Creates a 3x3 identity matrix\ndiag(c(2, 3, 5))  # Creates a diagonal matrix of given vector",
      "execution_count": 5,
      "outputs": [
        {
          "output_type": "display_data",
          "data": {
            "text/plain": "     [,1] [,2]\n[1,] 1    5   \n[2,] 2    6   \n[3,] 3    7   \n[4,] 4    8   ",
            "text/latex": "A matrix: 4 x 2 of type int\n\\begin{tabular}{ll}\n\t 1 & 5\\\\\n\t 2 & 6\\\\\n\t 3 & 7\\\\\n\t 4 & 8\\\\\n\\end{tabular}\n",
            "text/markdown": "\nA matrix: 4 x 2 of type int\n\n| 1 | 5 |\n| 2 | 6 |\n| 3 | 7 |\n| 4 | 8 |\n\n",
            "text/html": "<table>\n<caption>A matrix: 4 x 2 of type int</caption>\n<tbody>\n\t<tr><td>1</td><td>5</td></tr>\n\t<tr><td>2</td><td>6</td></tr>\n\t<tr><td>3</td><td>7</td></tr>\n\t<tr><td>4</td><td>8</td></tr>\n</tbody>\n</table>\n"
          },
          "metadata": {}
        },
        {
          "output_type": "display_data",
          "data": {
            "text/plain": "     [,1] [,2] [,3] [,4]\n[1,]  1    2    3    4  \n[2,] 11   12   13   14  ",
            "text/latex": "A matrix: 2 x 4 of type dbl\n\\begin{tabular}{llll}\n\t  1 &  2 &  3 &  4\\\\\n\t 11 & 12 & 13 & 14\\\\\n\\end{tabular}\n",
            "text/markdown": "\nA matrix: 2 x 4 of type dbl\n\n|  1 |  2 |  3 |  4 |\n| 11 | 12 | 13 | 14 |\n\n",
            "text/html": "<table>\n<caption>A matrix: 2 x 4 of type dbl</caption>\n<tbody>\n\t<tr><td> 1</td><td> 2</td><td> 3</td><td> 4</td></tr>\n\t<tr><td>11</td><td>12</td><td>13</td><td>14</td></tr>\n</tbody>\n</table>\n"
          },
          "metadata": {}
        },
        {
          "output_type": "display_data",
          "data": {
            "text/plain": "     [,1] [,2] [,3] [,4]\n[1,] 56    62   68   74 \n[2,] 68    76   84   92 \n[3,] 80    90  100  110 \n[4,] 92   104  116  128 ",
            "text/latex": "A matrix: 4 x 4 of type dbl\n\\begin{tabular}{llll}\n\t 56 &  62 &  68 &  74\\\\\n\t 68 &  76 &  84 &  92\\\\\n\t 80 &  90 & 100 & 110\\\\\n\t 92 & 104 & 116 & 128\\\\\n\\end{tabular}\n",
            "text/markdown": "\nA matrix: 4 x 4 of type dbl\n\n| 56 |  62 |  68 |  74 |\n| 68 |  76 |  84 |  92 |\n| 80 |  90 | 100 | 110 |\n| 92 | 104 | 116 | 128 |\n\n",
            "text/html": "<table>\n<caption>A matrix: 4 x 4 of type dbl</caption>\n<tbody>\n\t<tr><td>56</td><td> 62</td><td> 68</td><td> 74</td></tr>\n\t<tr><td>68</td><td> 76</td><td> 84</td><td> 92</td></tr>\n\t<tr><td>80</td><td> 90</td><td>100</td><td>110</td></tr>\n\t<tr><td>92</td><td>104</td><td>116</td><td>128</td></tr>\n</tbody>\n</table>\n"
          },
          "metadata": {}
        },
        {
          "output_type": "display_data",
          "data": {
            "text/plain": "     [,1] [,2]\n[1,]  30   70 \n[2,] 130  330 ",
            "text/latex": "A matrix: 2 x 2 of type dbl\n\\begin{tabular}{ll}\n\t  30 &  70\\\\\n\t 130 & 330\\\\\n\\end{tabular}\n",
            "text/markdown": "\nA matrix: 2 x 2 of type dbl\n\n|  30 |  70 |\n| 130 | 330 |\n\n",
            "text/html": "<table>\n<caption>A matrix: 2 x 2 of type dbl</caption>\n<tbody>\n\t<tr><td> 30</td><td> 70</td></tr>\n\t<tr><td>130</td><td>330</td></tr>\n</tbody>\n</table>\n"
          },
          "metadata": {}
        },
        {
          "output_type": "display_data",
          "data": {
            "text/plain": "     [,1] [,2]\n[1,] 1    5   \n[2,] 2    6   ",
            "text/latex": "A matrix: 2 x 2 of type int\n\\begin{tabular}{ll}\n\t 1 & 5\\\\\n\t 2 & 6\\\\\n\\end{tabular}\n",
            "text/markdown": "\nA matrix: 2 x 2 of type int\n\n| 1 | 5 |\n| 2 | 6 |\n\n",
            "text/html": "<table>\n<caption>A matrix: 2 x 2 of type int</caption>\n<tbody>\n\t<tr><td>1</td><td>5</td></tr>\n\t<tr><td>2</td><td>6</td></tr>\n</tbody>\n</table>\n"
          },
          "metadata": {}
        },
        {
          "output_type": "display_data",
          "data": {
            "text/plain": "[1] 5 6 7 8",
            "text/latex": "\\begin{enumerate*}\n\\item 5\n\\item 6\n\\item 7\n\\item 8\n\\end{enumerate*}\n",
            "text/markdown": "1. 5\n2. 6\n3. 7\n4. 8\n\n\n",
            "text/html": "<ol class=list-inline>\n\t<li>5</li>\n\t<li>6</li>\n\t<li>7</li>\n\t<li>8</li>\n</ol>\n"
          },
          "metadata": {}
        },
        {
          "output_type": "display_data",
          "data": {
            "text/plain": "     [,1] [,2] \n[1,] -1.5  1.25\n[2,]  0.5 -0.25",
            "text/latex": "A matrix: 2 x 2 of type dbl\n\\begin{tabular}{ll}\n\t -1.5 &  1.25\\\\\n\t  0.5 & -0.25\\\\\n\\end{tabular}\n",
            "text/markdown": "\nA matrix: 2 x 2 of type dbl\n\n| -1.5 |  1.25 |\n|  0.5 | -0.25 |\n\n",
            "text/html": "<table>\n<caption>A matrix: 2 x 2 of type dbl</caption>\n<tbody>\n\t<tr><td>-1.5</td><td> 1.25</td></tr>\n\t<tr><td> 0.5</td><td>-0.25</td></tr>\n</tbody>\n</table>\n"
          },
          "metadata": {}
        },
        {
          "output_type": "display_data",
          "data": {
            "text/plain": "     [,1] [,2] [,3]\n[1,] 1    0    0   \n[2,] 0    1    0   \n[3,] 0    0    1   ",
            "text/latex": "A matrix: 3 x 3 of type dbl\n\\begin{tabular}{lll}\n\t 1 & 0 & 0\\\\\n\t 0 & 1 & 0\\\\\n\t 0 & 0 & 1\\\\\n\\end{tabular}\n",
            "text/markdown": "\nA matrix: 3 x 3 of type dbl\n\n| 1 | 0 | 0 |\n| 0 | 1 | 0 |\n| 0 | 0 | 1 |\n\n",
            "text/html": "<table>\n<caption>A matrix: 3 x 3 of type dbl</caption>\n<tbody>\n\t<tr><td>1</td><td>0</td><td>0</td></tr>\n\t<tr><td>0</td><td>1</td><td>0</td></tr>\n\t<tr><td>0</td><td>0</td><td>1</td></tr>\n</tbody>\n</table>\n"
          },
          "metadata": {}
        },
        {
          "output_type": "display_data",
          "data": {
            "text/plain": "     [,1] [,2] [,3]\n[1,] 2    0    0   \n[2,] 0    3    0   \n[3,] 0    0    5   ",
            "text/latex": "A matrix: 3 x 3 of type dbl\n\\begin{tabular}{lll}\n\t 2 & 0 & 0\\\\\n\t 0 & 3 & 0\\\\\n\t 0 & 0 & 5\\\\\n\\end{tabular}\n",
            "text/markdown": "\nA matrix: 3 x 3 of type dbl\n\n| 2 | 0 | 0 |\n| 0 | 3 | 0 |\n| 0 | 0 | 5 |\n\n",
            "text/html": "<table>\n<caption>A matrix: 3 x 3 of type dbl</caption>\n<tbody>\n\t<tr><td>2</td><td>0</td><td>0</td></tr>\n\t<tr><td>0</td><td>3</td><td>0</td></tr>\n\t<tr><td>0</td><td>0</td><td>5</td></tr>\n</tbody>\n</table>\n"
          },
          "metadata": {}
        }
      ]
    },
    {
      "metadata": {
        "trusted": true
      },
      "cell_type": "code",
      "source": "apple <- c(350, 150) \norange <- c(400, 230) \nwatermelon <- c(180, 90) \nfruit_matrix <- matrix(c(apple, orange, watermelon), byrow=TRUE, nrow=3); fruit_matrix\nrownames(fruit_matrix) <- c('Apple', 'Orange', 'Watermelon')\ncolnames(fruit_matrix) <- c('Weekday', 'Weekend')\nrowSums(fruit_matrix)\ncolSums(fruit_matrix)\nfruit_matrix <- cbind(fruit_matrix, rowSums(fruit_matrix))\ntotal_sale <- sum(fruit_matrix[,3] * c(1, 1.5, 4)); total_sale",
      "execution_count": 26,
      "outputs": [
        {
          "output_type": "display_data",
          "data": {
            "text/plain": "     [,1] [,2]\n[1,] 350  150 \n[2,] 400  230 \n[3,] 180   90 ",
            "text/latex": "A matrix: 3 x 2 of type dbl\n\\begin{tabular}{ll}\n\t 350 & 150\\\\\n\t 400 & 230\\\\\n\t 180 &  90\\\\\n\\end{tabular}\n",
            "text/markdown": "\nA matrix: 3 x 2 of type dbl\n\n| 350 | 150 |\n| 400 | 230 |\n| 180 |  90 |\n\n",
            "text/html": "<table>\n<caption>A matrix: 3 x 2 of type dbl</caption>\n<tbody>\n\t<tr><td>350</td><td>150</td></tr>\n\t<tr><td>400</td><td>230</td></tr>\n\t<tr><td>180</td><td> 90</td></tr>\n</tbody>\n</table>\n"
          },
          "metadata": {}
        },
        {
          "output_type": "display_data",
          "data": {
            "text/plain": "     Apple     Orange Watermelon \n       500        630        270 ",
            "text/latex": "\\begin{description*}\n\\item[Apple] 500\n\\item[Orange] 630\n\\item[Watermelon] 270\n\\end{description*}\n",
            "text/markdown": "Apple\n:   500Orange\n:   630Watermelon\n:   270\n\n",
            "text/html": "<dl class=dl-horizontal>\n\t<dt>Apple</dt>\n\t\t<dd>500</dd>\n\t<dt>Orange</dt>\n\t\t<dd>630</dd>\n\t<dt>Watermelon</dt>\n\t\t<dd>270</dd>\n</dl>\n"
          },
          "metadata": {}
        },
        {
          "output_type": "display_data",
          "data": {
            "text/plain": "Weekday Weekend \n    930     470 ",
            "text/latex": "\\begin{description*}\n\\item[Weekday] 930\n\\item[Weekend] 470\n\\end{description*}\n",
            "text/markdown": "Weekday\n:   930Weekend\n:   470\n\n",
            "text/html": "<dl class=dl-horizontal>\n\t<dt>Weekday</dt>\n\t\t<dd>930</dd>\n\t<dt>Weekend</dt>\n\t\t<dd>470</dd>\n</dl>\n"
          },
          "metadata": {}
        },
        {
          "output_type": "display_data",
          "data": {
            "text/plain": "[1] 2525",
            "text/latex": "2525",
            "text/markdown": "2525",
            "text/html": "2525"
          },
          "metadata": {}
        }
      ]
    },
    {
      "metadata": {
        "trusted": true
      },
      "cell_type": "code",
      "source": "",
      "execution_count": null,
      "outputs": []
    }
  ],
  "metadata": {
    "kernelspec": {
      "name": "r",
      "display_name": "R",
      "language": "R"
    },
    "language_info": {
      "mimetype": "text/x-r-source",
      "name": "R",
      "pygments_lexer": "r",
      "version": "3.5.3",
      "file_extension": ".r",
      "codemirror_mode": "r"
    }
  },
  "nbformat": 4,
  "nbformat_minor": 2
}